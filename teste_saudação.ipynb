{
 "cells": [
  {
   "cell_type": "code",
   "execution_count": 2,
   "metadata": {},
   "outputs": [
    {
     "name": "stdout",
     "output_type": "stream",
     "text": [
      "Olá, que bom fazer contato contigo!\n",
      "Qual seu nome?\n",
      "Meu nome é:  Camila\n",
      "Prazer em te conhecer  Camila\n"
     ]
    }
   ],
   "source": [
    "#Saudação\n",
    "nome = str(input('Qual seu nome?'))\n",
    "\n",
    "print ('Olá, que bom fazer contato contigo!')\n",
    "print(\"Qual seu nome?\")\n",
    "print(\"Meu nome é: \",nome)\n",
    "print(\"Prazer em te conhecer \", nome)"
   ]
  }
 ],
 "metadata": {
  "interpreter": {
   "hash": "0cba474e7825f64be150054d33f41c13189b23e3584ee774a895505ffe3f9592"
  },
  "kernelspec": {
   "display_name": "Python 3.10.0 64-bit",
   "language": "python",
   "name": "python3"
  },
  "language_info": {
   "codemirror_mode": {
    "name": "ipython",
    "version": 3
   },
   "file_extension": ".py",
   "mimetype": "text/x-python",
   "name": "python",
   "nbconvert_exporter": "python",
   "pygments_lexer": "ipython3",
   "version": "3.10.0"
  },
  "orig_nbformat": 4
 },
 "nbformat": 4,
 "nbformat_minor": 2
}
